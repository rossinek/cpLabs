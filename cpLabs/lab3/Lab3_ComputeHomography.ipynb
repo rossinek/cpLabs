{
 "cells": [
  {
   "cell_type": "markdown",
   "metadata": {},
   "source": [
    "# Lab 3\n",
    "## Task 3: Compute Homography from Points (40 pts)\n",
    "\n",
    "We are given points correspondences from two images. We want to compute the homography. As an example we will use the same two images as in previous tasks."
   ]
  },
  {
   "cell_type": "code",
   "execution_count": 4,
   "metadata": {
    "collapsed": false
   },
   "outputs": [],
   "source": [
    "from IPython.display import Image\n",
    "import cv2\n",
    "import numpy as np\n",
    "\n",
    "train_img = cv2.imread('images/green.png')\n",
    "poster_img = cv2.imread('images/poster.png')\n",
    "(ph,pw,pc) = poster_img.shape\n",
    "\n",
    "poster_p = np.array([[0, 0, 1], [0, pw, 1], [ph, pw, 1], [ph, 0, 1]])\n",
    "train_p = np.array([[170, 95, 1], [171,238, 1], [233,235, 1], [239,94, 1]])"
   ]
  },
  {
   "cell_type": "markdown",
   "metadata": {},
   "source": [
    "Let consider the pair of corresponding points. We want to find matrix $H$:\n",
    "\n",
    "$$\n",
    "\\begin{bmatrix}\n",
    "  H_{11} & H_{12} & H_{13} \\\\\n",
    "  H_{21} & H_{22} & H_{23} \\\\\n",
    "  H_{31} & H_{32} & H_{33} \\\\\n",
    "\\end{bmatrix}\n",
    "\\begin{bmatrix}\n",
    "  x_1 \\\\\n",
    "  y_1 \\\\\n",
    "  z_1 \\\\\n",
    "\\end{bmatrix}\n",
    "=\n",
    "\\begin{bmatrix}\n",
    "  x_2 \\\\\n",
    "  y_2 \\\\\n",
    "  z_2 \\\\\n",
    "\\end{bmatrix}\n",
    "$$\n",
    "\n",
    "let $x' = x/z$ and $y' = y/z$, then:\n",
    "\n",
    "$$ x_2' = \\frac{H_{11}x_1+H_{12}y_1+H_{13}z_1}{H_{31}x_1+H_{32}y_1+H_{33}z_1}$$\n",
    "\n",
    "$$ y_2' = \\frac{H_{21}x_1+H_{22}y_1+H_{23}z_1}{H_{31}x_1+H_{32}y_1+H_{33}z_1}$$\n",
    "\n",
    "We can now rearrange those two equation into:\n",
    "\n",
    "$$ a_x^T\\mathbf{h} = 0$$\n",
    "$$ a_y^T\\mathbf{h} = 0$$\n",
    "\n",
    "where\n",
    "\n",
    "$$ h = (H_{11},H_{12},H_{13},H_{21},H_{22},H_{23},H_{31},H_{32},H_{33})^T $$\n",
    "\n",
    "$$ a_x = (-x_1,-y_1,-z_1,0,0,0,x_2'x_1,x_2'y_1,x_2'z_1)^T $$\n",
    "$$ a_y = (0,0,0,-x_1,-y_1,-z_1,y_2'x_1,y_2'y_1,y_2'z_1)^T $$\n",
    "\n",
    "Finally given a set of corresponding points, we can form the following linear system of equations,\n",
    "\n",
    "$$\n",
    "A\\mathbf{h} = 0\n",
    "$$\n",
    "\n",
    "where\n",
    "\n",
    "$$\n",
    "A= \\begin{pmatrix}\n",
    "  a_{x_1}^T \\\\\n",
    "  a_{y_1}^T \\\\\n",
    "  \\vdots \\\\\n",
    "  a_{x_N}^T \\\\\n",
    "  a_{y_N}^T \\\\\n",
    "\\end{pmatrix}\n",
    "$$\n",
    "\n",
    "We solve it using Singular Value Decomposition (SVD). From the SVD we take the \"right singular vector\" (a column from V) which corresponds to the smallest singular value."
   ]
  },
  {
   "cell_type": "code",
   "execution_count": 5,
   "metadata": {
    "collapsed": true
   },
   "outputs": [],
   "source": [
    "def find_homography(p1, p2):\n",
    "    A = np.zeros((8, 9), np.float32)\n",
    "    for i in range(0,4): \n",
    "        A[2*i] \t= [-p1[i,0],-p1[i,1],-p1[i,2],0,0,0,(p2[i,0]/p2[i,2])*p1[i,0],(p2[i,0]/p2[i,2])*p1[i,1],(p2[i,0]/p2[i,2])*p1[i,2]]\n",
    "        A[2*i+1]= [0,0,0,-p1[i,0],-p1[i,1],-p1[i,2],(p2[i,1]/p2[i,2])*p1[i,0],(p2[i,1]/p2[i,2])*p1[i,1],(p2[i,1]/p2[i,2])*p1[i,2]]\n",
    "\n",
    "    U, s, V = np.linalg.svd(A, full_matrices=True)\n",
    "    H = V[8,:]\n",
    "    return H.reshape((3,3))"
   ]
  },
  {
   "cell_type": "markdown",
   "metadata": {},
   "source": [
    "For testing our homography we need code from previous tasks"
   ]
  },
  {
   "cell_type": "code",
   "execution_count": 11,
   "metadata": {
    "collapsed": false
   },
   "outputs": [
    {
     "ename": "ImportError",
     "evalue": "No module named Lab3_ApplyHomography",
     "output_type": "error",
     "traceback": [
      "\u001b[0;31m---------------------------------------------------------------------------\u001b[0m",
      "\u001b[0;31mImportError\u001b[0m                               Traceback (most recent call last)",
      "\u001b[0;32m<ipython-input-11-98c78d0c4194>\u001b[0m in \u001b[0;36m<module>\u001b[0;34m()\u001b[0m\n\u001b[0;32m----> 1\u001b[0;31m \u001b[0;32mimport\u001b[0m \u001b[0mLab3_ApplyHomography\u001b[0m\u001b[0;34m\u001b[0m\u001b[0m\n\u001b[0m\u001b[1;32m      2\u001b[0m \u001b[0;34m\u001b[0m\u001b[0m\n\u001b[1;32m      3\u001b[0m \u001b[0;34m\u001b[0m\u001b[0m\n\u001b[1;32m      4\u001b[0m \u001b[0mH\u001b[0m \u001b[0;34m=\u001b[0m \u001b[0mfind_homography\u001b[0m\u001b[0;34m(\u001b[0m\u001b[0mtrain_p\u001b[0m\u001b[0;34m,\u001b[0m\u001b[0mposter_p\u001b[0m\u001b[0;34m)\u001b[0m\u001b[0;34m\u001b[0m\u001b[0m\n\u001b[1;32m      5\u001b[0m \u001b[0;34m\u001b[0m\u001b[0m\n",
      "\u001b[0;31mImportError\u001b[0m: No module named Lab3_ApplyHomography"
     ]
    }
   ],
   "source": [
    "import Lab3_ApplyHomography\n",
    "\n",
    "\n",
    "H = find_homography(train_p,poster_p)\n",
    "\n",
    "output_img = apply_homography_bi(train_img, poster_img, H)\n",
    "output_path = 'output/trainBI_myHomography.png'\n",
    "cv2.imwrite(output_path,output_img)\n",
    "Image(output_path)"
   ]
  }
 ],
 "metadata": {
  "kernelspec": {
   "display_name": "Python 2",
   "language": "python",
   "name": "python2"
  },
  "language_info": {
   "codemirror_mode": {
    "name": "ipython",
    "version": 2
   },
   "file_extension": ".py",
   "mimetype": "text/x-python",
   "name": "python",
   "nbconvert_exporter": "python",
   "pygments_lexer": "ipython2",
   "version": "2.7.12"
  }
 },
 "nbformat": 4,
 "nbformat_minor": 1
}
