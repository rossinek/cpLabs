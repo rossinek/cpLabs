{
 "cells": [
  {
   "cell_type": "code",
   "execution_count": 6,
   "metadata": {
    "collapsed": false
   },
   "outputs": [],
   "source": [
    "import numpy as np\n",
    "import cv2\n",
    "\n",
    "from os import listdir\n",
    "from os.path import isfile, join\n",
    "\n",
    "test_set_files = [join('testset', f) for f in listdir('testset') if isfile(join('testset', f))]\n",
    "train_set_files = [join('trainset', f) for f in listdir('trainset') if isfile(join('trainset', f))]\n",
    "\n",
    "def compute_greyscale_32x32_descryptors(files):\n",
    "    descryptors = []\n",
    "    for img_path in files:\n",
    "        img = cv2.imread(img_path, 0)\n",
    "        dsc = cv2.resize(img, (32, 32)).astype(np.float32)\n",
    "        descryptors.append([dsc, img_path])\n",
    "    return descryptors\n",
    "\n",
    "def prepare_data_PCA(dsc_32x32_with_filepaths):\n",
    "    data_matrix = np.zeros((len(dsc_32x32_with_filepaths), 32*32), np.float32)\n",
    "    for i in range(0, len(dsc_32x32_with_filepaths)):\n",
    "        data_matrix[i,:] = dsc_32x32_with_filepaths[i][0].flatten()\n",
    "    filenames = np.array(dsc_32x32_with_filepaths)[...,1]\n",
    "    return data_matrix, filenames\n",
    "\n",
    "def compute_PCA(data_matrix, max_components):\n",
    "    mean, eigenvectors = cv2.PCACompute(data_matrix, maxComponents=max_components)\n",
    "    return mean, eigenvectors\n",
    "\n",
    "def compute_PCA_descryptors(mean, eigenvectors, data_matrix, filenames):\n",
    "    pc_data_matrix = cv2.PCAProject(data_matrix, mean, eigenvectors)\n",
    "    descryptors = zip(pc_data_matrix, filenames)\n",
    "    return descryptors\n",
    "\n",
    "test_set_32x32_descryptors = compute_greyscale_32x32_descryptors(test_set_files)\n",
    "train_set_32x32_descryptors = compute_greyscale_32x32_descryptors(train_set_files)\n",
    "\n",
    "train_data_matrix, train_filenames = prepare_data_PCA(train_set_32x32_descryptors)\n",
    "mean, eigenvectors = compute_PCA(train_data_matrix, 19)\n",
    "train_set_PCA_descryptors = compute_PCA_descryptors(mean, eigenvectors, train_data_matrix, train_filenames)\n",
    "\n",
    "test_data_matrix, test_filenames = prepare_data_PCA(test_set_32x32_descryptors)\n",
    "test_set_PCA_descryptors = compute_PCA_descryptors(mean, eigenvectors, test_data_matrix, test_filenames)"
   ]
  },
  {
   "cell_type": "code",
   "execution_count": 7,
   "metadata": {
    "collapsed": true
   },
   "outputs": [],
   "source": [
    "import pickle\n",
    "\n",
    "with open('output/descryptors.txt', 'w') as f:\n",
    "    pickle.dump(\n",
    "        [\n",
    "            test_set_32x32_descryptors,\n",
    "            train_set_32x32_descryptors,\n",
    "            train_set_PCA_descryptors,\n",
    "            test_set_PCA_descryptors\n",
    "        ], f)"
   ]
  }
 ],
 "metadata": {
  "kernelspec": {
   "display_name": "Python 2",
   "language": "python",
   "name": "python2"
  },
  "language_info": {
   "codemirror_mode": {
    "name": "ipython",
    "version": 2
   },
   "file_extension": ".py",
   "mimetype": "text/x-python",
   "name": "python",
   "nbconvert_exporter": "python",
   "pygments_lexer": "ipython2",
   "version": "2.7.6"
  }
 },
 "nbformat": 4,
 "nbformat_minor": 1
}
